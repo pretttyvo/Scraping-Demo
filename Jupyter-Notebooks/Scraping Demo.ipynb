{
 "cells": [
  {
   "cell_type": "code",
   "execution_count": 11,
   "id": "necessary-quarterly",
   "metadata": {},
   "outputs": [],
   "source": [
    "# import libraries\n",
    "import pandas as pd\n",
    "import numpy as np\n",
    "import pandas as pd\n",
    "from bs4 import BeautifulSoup\n",
    "from splinter import Browser"
   ]
  },
  {
   "cell_type": "code",
   "execution_count": 12,
   "id": "checked-native",
   "metadata": {},
   "outputs": [],
   "source": [
    "# launch chrome driver\n",
    "executable_path = {'executable_path': '/Users/prettyvo/Desktop/chromedriver'} # change this to your own unique path"
   ]
  },
  {
   "cell_type": "markdown",
   "id": "saved-appendix",
   "metadata": {},
   "source": [
    "When the cell below is run, a new window will pop up using chrome driver. \n",
    "<br>\n",
    "![Driver](../Images/driver.png)\n",
    "<br><br>\n",
    "**Note that everytime this cell is run, a new chrome driver window will open. Be sure to CLOSE the window at the end of every session to not overload the system.**"
   ]
  },
  {
   "cell_type": "code",
   "execution_count": 15,
   "id": "frequent-variety",
   "metadata": {},
   "outputs": [],
   "source": [
    "browser = Browser('chrome', **executable_path, headless=False)"
   ]
  },
  {
   "cell_type": "markdown",
   "id": "aboriginal-hurricane",
   "metadata": {},
   "source": [
    "Run the cell below to visit the webpage in the chrome driver browser. \n",
    "<br>\n",
    "![Mars](../Images/mars.png)"
   ]
  },
  {
   "cell_type": "code",
   "execution_count": 14,
   "id": "ongoing-faith",
   "metadata": {},
   "outputs": [],
   "source": [
    "# connect browser to url and parse data images of the titles and summaries\n",
    "mars_url = \"https://mars.nasa.gov/news/\"\n",
    "browser.visit(mars_url)"
   ]
  },
  {
   "cell_type": "code",
   "execution_count": null,
   "id": "whole-module",
   "metadata": {},
   "outputs": [],
   "source": []
  }
 ],
 "metadata": {
  "kernelspec": {
   "display_name": "MSDS ML I",
   "language": "python",
   "name": "ml_i_msds"
  },
  "language_info": {
   "codemirror_mode": {
    "name": "ipython",
    "version": 3
   },
   "file_extension": ".py",
   "mimetype": "text/x-python",
   "name": "python",
   "nbconvert_exporter": "python",
   "pygments_lexer": "ipython3",
   "version": "3.7.7"
  }
 },
 "nbformat": 4,
 "nbformat_minor": 5
}
